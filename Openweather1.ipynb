{
  "nbformat": 4,
  "nbformat_minor": 0,
  "metadata": {
    "colab": {
      "name": "openweather1.ipynb",
      "provenance": [],
      "collapsed_sections": []
    },
    "kernelspec": {
      "name": "python3",
      "display_name": "Python 3"
    },
    "language_info": {
      "name": "python"
    }
  },
  "cells": [
    {
      "cell_type": "code",
      "execution_count": null,
      "metadata": {
        "id": "K5_glBfsm_O9"
      },
      "outputs": [],
      "source": [
        ""
      ]
    },
    {
      "cell_type": "code",
      "source": [
        "import datetime\n",
        "import json\n",
        "import urllib.request\n",
        "\n",
        "def time_converter(time):\n",
        "    converted_time = datetime.datetime.fromtimestamp(\n",
        "        int(time)\n",
        "    ).strftime('%I:%M %p')\n",
        "    return converted_time\n",
        "\n",
        "def url_builder1(city):\n",
        "    user_api = 'cdbe809a1b434fd91a4e599e725a704a'  # Obtain yours form: http://openweathermap.org/\n",
        "    unit = 'metric'  # For Fahrenheit use imperial, for Celsius use metric, and the default is Kelvin.\n",
        "    api = 'http://api.openweathermap.org/data/2.5/weather?q='     # Search for your city ID here: http://bulk.openweathermap.org/sample/city.list.json.gz\n",
        "    full_api_url = api + str(city) + '&mode=json&units=' + unit + '&APPID=' + user_api\n",
        "    print(full_api_url)\n",
        "    return full_api_url\n",
        "\n",
        "def data_fetch(full_api_url):\n",
        "    url = urllib.request.urlopen(full_api_url)\n",
        "    output = url.read().decode('utf-8')\n",
        "    raw_api_dict = json.loads(output)\n",
        "    url.close()\n",
        "    #print(raw_api_dict)\n",
        "    return raw_api_dict\n",
        "\n",
        "if __name__ == '__main__':\n",
        "    try:\n",
        "        now=datetime.datetime.now()\n",
        "        datos=data_fetch(url_builder1('Alicante,ES'))\n",
        "        print(datos)\n",
        "        print(now)\n",
        "        for key in datos['main']:\n",
        "          print(key, \":\", datos['main'][key])\n",
        "        for key in datos['wind']:\n",
        "          print(key, \":\", datos['wind'][key])\n",
        "        for key in datos['clouds']:\n",
        "          print(key, \":\", datos['clouds'][key])\n",
        "        for key in datos['sys']:\n",
        "          print(key, \":\", datos['sys'][key])\n",
        "        print(time_converter(1612681284))\n",
        "        print(time_converter(datos['sys']['sunrise']))\n",
        "        print(time_converter(datos['sys']['sunset']))\n",
        "    except IOError:\n",
        "        print('error')\n",
        "\n"
      ],
      "metadata": {
        "colab": {
          "base_uri": "https://localhost:8080/"
        },
        "id": "nbjnKllDNTPO",
        "outputId": "0ae07b90-7f00-4a33-e32b-d2e885449c19"
      },
      "execution_count": 3,
      "outputs": [
        {
          "output_type": "stream",
          "name": "stdout",
          "text": [
            "http://api.openweathermap.org/data/2.5/weather?q=Alicante,ES&mode=json&units=metric&APPID=cdbe809a1b434fd91a4e599e725a704a\n",
            "{'coord': {'lon': -0.4815, 'lat': 38.3452}, 'weather': [{'id': 803, 'main': 'Clouds', 'description': 'broken clouds', 'icon': '04n'}], 'base': 'stations', 'main': {'temp': 13.05, 'feels_like': 12.45, 'temp_min': 10.47, 'temp_max': 14.01, 'pressure': 1030, 'humidity': 78}, 'visibility': 10000, 'wind': {'speed': 2.57, 'deg': 60}, 'clouds': {'all': 75}, 'dt': 1644439254, 'sys': {'type': 1, 'id': 6391, 'country': 'ES', 'sunrise': 1644389975, 'sunset': 1644427968}, 'timezone': 3600, 'id': 2521978, 'name': 'Alicante', 'cod': 200}\n",
            "2022-02-09 20:43:53.168816\n",
            "temp : 13.05\n",
            "feels_like : 12.45\n",
            "temp_min : 10.47\n",
            "temp_max : 14.01\n",
            "pressure : 1030\n",
            "humidity : 78\n",
            "speed : 2.57\n",
            "deg : 60\n",
            "all : 75\n",
            "type : 1\n",
            "id : 6391\n",
            "country : ES\n",
            "sunrise : 1644389975\n",
            "sunset : 1644427968\n",
            "07:01 AM\n",
            "06:59 AM\n",
            "05:32 PM\n"
          ]
        }
      ]
    }
  ]
}